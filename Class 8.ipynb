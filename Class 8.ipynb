{
 "cells": [
  {
   "cell_type": "code",
   "execution_count": 1,
   "id": "bb20d587",
   "metadata": {},
   "outputs": [],
   "source": [
    "var = 10"
   ]
  },
  {
   "cell_type": "code",
   "execution_count": 2,
   "id": "3522d640",
   "metadata": {},
   "outputs": [
    {
     "name": "stdout",
     "output_type": "stream",
     "text": [
      "10\n"
     ]
    }
   ],
   "source": [
    "print(var)"
   ]
  },
  {
   "cell_type": "code",
   "execution_count": 3,
   "id": "8fa2bc88",
   "metadata": {},
   "outputs": [
    {
     "name": "stdout",
     "output_type": "stream",
     "text": [
      "50\n"
     ]
    }
   ],
   "source": [
    "var1 = input()"
   ]
  },
  {
   "cell_type": "code",
   "execution_count": 5,
   "id": "d05f5edf",
   "metadata": {},
   "outputs": [
    {
     "name": "stdout",
     "output_type": "stream",
     "text": [
      "50\n"
     ]
    }
   ],
   "source": [
    "print(var1)"
   ]
  },
  {
   "cell_type": "code",
   "execution_count": 1,
   "id": "dbdd3be3",
   "metadata": {},
   "outputs": [
    {
     "name": "stdout",
     "output_type": "stream",
     "text": [
      "please enter your gmail:mdredhwan@gmail.com\n"
     ]
    }
   ],
   "source": [
    "g = input(\"please enter your gmail:\")"
   ]
  },
  {
   "cell_type": "code",
   "execution_count": 2,
   "id": "6c233621",
   "metadata": {},
   "outputs": [
    {
     "name": "stdout",
     "output_type": "stream",
     "text": [
      "mdredhwan@gmail.com\n"
     ]
    }
   ],
   "source": [
    "print(g)"
   ]
  },
  {
   "cell_type": "code",
   "execution_count": 4,
   "id": "d04bdfb1",
   "metadata": {},
   "outputs": [
    {
     "name": "stdout",
     "output_type": "stream",
     "text": [
      "enter your password:hfggdh\n"
     ]
    }
   ],
   "source": [
    "g = input(\"enter your password:\")"
   ]
  },
  {
   "cell_type": "code",
   "execution_count": 5,
   "id": "1ba54abb",
   "metadata": {},
   "outputs": [
    {
     "name": "stdout",
     "output_type": "stream",
     "text": [
      "hfggdh\n"
     ]
    }
   ],
   "source": [
    "print(g)"
   ]
  },
  {
   "cell_type": "code",
   "execution_count": 6,
   "id": "795bda69",
   "metadata": {},
   "outputs": [
    {
     "name": "stdout",
     "output_type": "stream",
     "text": [
      "please enter your number\n",
      "088966465\n"
     ]
    }
   ],
   "source": [
    "print(\"please enter your number\")\n",
    "num = input()"
   ]
  },
  {
   "cell_type": "code",
   "execution_count": 1,
   "id": "58e900c8",
   "metadata": {},
   "outputs": [
    {
     "name": "stdout",
     "output_type": "stream",
     "text": [
      "please enter your number:74476759\n"
     ]
    }
   ],
   "source": [
    "num = input(\"please enter your number:\")"
   ]
  },
  {
   "cell_type": "code",
   "execution_count": 2,
   "id": "2677cbb9",
   "metadata": {},
   "outputs": [
    {
     "name": "stdout",
     "output_type": "stream",
     "text": [
      "74476759\n"
     ]
    }
   ],
   "source": [
    "print(num)"
   ]
  },
  {
   "cell_type": "code",
   "execution_count": 1,
   "id": "0ec1b88c",
   "metadata": {},
   "outputs": [
    {
     "name": "stdout",
     "output_type": "stream",
     "text": [
      "please enter a number: 79865\n",
      "please enter another number: 78675\n"
     ]
    }
   ],
   "source": [
    "a1 = input(\"please enter a number: \")\n",
    "b1 = input(\"please enter another number: \")"
   ]
  },
  {
   "cell_type": "code",
   "execution_count": 2,
   "id": "cc0c975e",
   "metadata": {},
   "outputs": [
    {
     "name": "stdout",
     "output_type": "stream",
     "text": [
      "7986578675\n"
     ]
    }
   ],
   "source": [
    "print(a1+b1)"
   ]
  },
  {
   "cell_type": "code",
   "execution_count": 5,
   "id": "b15630c9",
   "metadata": {},
   "outputs": [
    {
     "name": "stdout",
     "output_type": "stream",
     "text": [
      "please enter a number77\n"
     ]
    }
   ],
   "source": [
    "a2 = input(\"please enter a number\")"
   ]
  },
  {
   "cell_type": "code",
   "execution_count": 7,
   "id": "25e1430c",
   "metadata": {},
   "outputs": [
    {
     "data": {
      "text/plain": [
       "str"
      ]
     },
     "execution_count": 7,
     "metadata": {},
     "output_type": "execute_result"
    }
   ],
   "source": [
    "type(a2)"
   ]
  },
  {
   "cell_type": "code",
   "execution_count": 10,
   "id": "b4b58bdd",
   "metadata": {},
   "outputs": [
    {
     "name": "stdout",
     "output_type": "stream",
     "text": [
      "please enter a number: 77\n"
     ]
    }
   ],
   "source": [
    "a2 = int(input(\"please enter a number: \"))"
   ]
  },
  {
   "cell_type": "code",
   "execution_count": 11,
   "id": "c8f827da",
   "metadata": {},
   "outputs": [
    {
     "data": {
      "text/plain": [
       "int"
      ]
     },
     "execution_count": 11,
     "metadata": {},
     "output_type": "execute_result"
    }
   ],
   "source": [
    "type(a2)"
   ]
  },
  {
   "cell_type": "code",
   "execution_count": 16,
   "id": "728fdfef",
   "metadata": {},
   "outputs": [
    {
     "name": "stdout",
     "output_type": "stream",
     "text": [
      "please enter a number: 20\n",
      "please enter another number20\n"
     ]
    }
   ],
   "source": [
    "a3 = float(input(\"please enter a number: \"))\n",
    "b3 = float(input(\"please enter another number\"))"
   ]
  },
  {
   "cell_type": "code",
   "execution_count": 18,
   "id": "b9760046",
   "metadata": {},
   "outputs": [
    {
     "name": "stdout",
     "output_type": "stream",
     "text": [
      "20.0 20.0\n"
     ]
    }
   ],
   "source": [
    "print(a3,b3)"
   ]
  },
  {
   "cell_type": "code",
   "execution_count": 22,
   "id": "3f22ac82",
   "metadata": {},
   "outputs": [
    {
     "name": "stdout",
     "output_type": "stream",
     "text": [
      "let's inception for future\n"
     ]
    }
   ],
   "source": [
    "print(\"let's\", \"inception\", \"for\", \"future\",)"
   ]
  },
  {
   "cell_type": "code",
   "execution_count": 23,
   "id": "f1e865fb",
   "metadata": {},
   "outputs": [
    {
     "name": "stdout",
     "output_type": "stream",
     "text": [
      "let's inception for future\n"
     ]
    }
   ],
   "source": [
    "print(\"let's inception for future\")"
   ]
  },
  {
   "cell_type": "code",
   "execution_count": 24,
   "id": "038ba760",
   "metadata": {},
   "outputs": [
    {
     "name": "stdout",
     "output_type": "stream",
     "text": [
      "i am 30 years old, \n",
      " iam a student\n"
     ]
    }
   ],
   "source": [
    "print (\"i am 30 years old, \\n iam a student\")"
   ]
  },
  {
   "cell_type": "code",
   "execution_count": 26,
   "id": "8b6914d9",
   "metadata": {},
   "outputs": [
    {
     "name": "stdout",
     "output_type": "stream",
     "text": [
      "let'sInceptionfor\n",
      "future\n"
     ]
    }
   ],
   "source": [
    "print(\"let's\", end=\"\")\n",
    "print(\"Inception\", end=\"\")\n",
    "print(\"for\")\n",
    "print(\"future\")"
   ]
  },
  {
   "cell_type": "code",
   "execution_count": 27,
   "id": "a77f314b",
   "metadata": {},
   "outputs": [
    {
     "name": "stdout",
     "output_type": "stream",
     "text": [
      "60 pass\n"
     ]
    }
   ],
   "source": [
    "b = 60\n",
    "print(b, \"pass\")"
   ]
  },
  {
   "cell_type": "code",
   "execution_count": 29,
   "id": "aa0eb825",
   "metadata": {},
   "outputs": [
    {
     "name": "stdout",
     "output_type": "stream",
     "text": [
      "please enter a number:23\n",
      "please enter another number:45\n",
      "sum = 68.0\n"
     ]
    }
   ],
   "source": [
    "num1 = float(input(\"please enter a number:\"))\n",
    "num2 = float(input(\"please enter another number:\"))\n",
    "result = num1 + num2\n",
    "\n",
    "print(\"sum =\",(result))"
   ]
  },
  {
   "cell_type": "code",
   "execution_count": 1,
   "id": "d08bff59",
   "metadata": {},
   "outputs": [
    {
     "name": "stdout",
     "output_type": "stream",
     "text": [
      "please enter a number: 50\n",
      "please enter another number: 20\n",
      "your 1st number is 50.0 and 2nd number is 20.0 and your result is = 70.0\n"
     ]
    }
   ],
   "source": [
    "num1 = float(input(\"please enter a number: \"))\n",
    "num2 = float(input(\"please enter another number: \"))\n",
    "result = num1 + num2\n",
    "\n",
    "print(\"your 1st number is {} and 2nd number is {} and your result is = {}\".format(num1,num2,result))"
   ]
  },
  {
   "cell_type": "code",
   "execution_count": 4,
   "id": "b6c4ee96",
   "metadata": {},
   "outputs": [
    {
     "name": "stdout",
     "output_type": "stream",
     "text": [
      "please enter a number: 50\n",
      "please enter another number: 20\n",
      "your 1st number is 50.0 and your 2nd number is 20.0 and your result is = 70.0\n"
     ]
    }
   ],
   "source": [
    "num1 = float(input(\"please enter a number: \"))\n",
    "num2 = float(input(\"please enter another number: \"))\n",
    "result = num1 + num2\n",
    "\n",
    "print(f\"your 1st number is {num1} and your 2nd number is {num2} and your result is = {result}\")"
   ]
  },
  {
   "cell_type": "code",
   "execution_count": null,
   "id": "da8348ca",
   "metadata": {},
   "outputs": [],
   "source": []
  }
 ],
 "metadata": {
  "kernelspec": {
   "display_name": "Python 3 (ipykernel)",
   "language": "python",
   "name": "python3"
  },
  "language_info": {
   "codemirror_mode": {
    "name": "ipython",
    "version": 3
   },
   "file_extension": ".py",
   "mimetype": "text/x-python",
   "name": "python",
   "nbconvert_exporter": "python",
   "pygments_lexer": "ipython3",
   "version": "3.11.5"
  }
 },
 "nbformat": 4,
 "nbformat_minor": 5
}
