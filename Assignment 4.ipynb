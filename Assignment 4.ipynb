{
 "cells": [
  {
   "cell_type": "markdown",
   "id": "5bd588a6",
   "metadata": {},
   "source": [
    "# student_info\n"
   ]
  },
  {
   "cell_type": "code",
   "execution_count": 1,
   "id": "793625cd",
   "metadata": {},
   "outputs": [
    {
     "name": "stdout",
     "output_type": "stream",
     "text": [
      "please enter your name: red\n",
      "please enter your roll number: 23\n",
      "please enter your class: 11\n",
      "please enter your passing year: 2010\n",
      "please enter your reg number: 2341\n",
      "please enter your 1st sub: b\n",
      "please enter your 2nd sub: e\n",
      "please enter your 3rd sub: m\n",
      "please enter your 4th sub: c\n",
      "please enter your 5th sub: p\n"
     ]
    }
   ],
   "source": [
    "name = input(\"please enter your name: \") \n",
    "roll = input(\"please enter your roll number: \") \n",
    "clss = input (\"please enter your class: \") \n",
    "ssc = int(input(\"please enter your passing year: \")) \n",
    "reg = int(input(\"please enter your reg number: \")) \n",
    "sub1 = input(\"please enter your 1st sub: \") \n",
    "sub2 = input(\"please enter your 2nd sub: \") \n",
    "sub3 = input(\"please enter your 3rd sub: \") \n",
    "sub4 = input(\"please enter your 4th sub: \") \n",
    "sub5 = input(\"please enter your 5th sub: \") \n",
    "all_sub = (sub1,sub2,sub3,sub4,sub5 )"
   ]
  },
  {
   "cell_type": "code",
   "execution_count": null,
   "id": "aa893ddb",
   "metadata": {},
   "outputs": [],
   "source": []
  }
 ],
 "metadata": {
  "kernelspec": {
   "display_name": "Python 3 (ipykernel)",
   "language": "python",
   "name": "python3"
  },
  "language_info": {
   "codemirror_mode": {
    "name": "ipython",
    "version": 3
   },
   "file_extension": ".py",
   "mimetype": "text/x-python",
   "name": "python",
   "nbconvert_exporter": "python",
   "pygments_lexer": "ipython3",
   "version": "3.11.5"
  }
 },
 "nbformat": 4,
 "nbformat_minor": 5
}
