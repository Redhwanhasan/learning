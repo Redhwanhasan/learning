{
 "cells": [
  {
   "cell_type": "code",
   "execution_count": 8,
   "id": "8865aa9d",
   "metadata": {},
   "outputs": [
    {
     "name": "stdout",
     "output_type": "stream",
     "text": [
      "please enter your first name: Mdredhwan\n",
      "Please enter your last name: hasan\n",
      "Mdredhwan\n",
      "hasan\n",
      "nawhderdM\n",
      "nasah\n"
     ]
    }
   ],
   "source": [
    "name1 = input(\"please enter your first name: \")\n",
    "name2 = input(\"Please enter your last name: \")\n",
    "print(name1[ :])\n",
    "print(name2[ :])\n",
    "print(name1[-1: :-1])\n",
    "print(name2[-1: :-1])"
   ]
  },
  {
   "cell_type": "code",
   "execution_count": 7,
   "id": "85394da5",
   "metadata": {},
   "outputs": [
    {
     "name": "stdout",
     "output_type": "stream",
     "text": [
      "my name is: MD Redhwanul\n",
      "Hasan\n",
      "my reverse name is:  lunawhdeR DM nasaH\n"
     ]
    }
   ],
   "source": [
    "print(\"my name is:\", name1[ :])\n",
    "\n",
    "print(name2[ :])\n",
    "print(\"my reverse name is: \",name1[-1: :-1],name2[-1: :-1])"
   ]
  },
  {
   "cell_type": "code",
   "execution_count": 10,
   "id": "f20e458a",
   "metadata": {},
   "outputs": [
    {
     "name": "stdout",
     "output_type": "stream",
     "text": [
      "n\n"
     ]
    }
   ],
   "source": [
    "print(name1[-1 : :])"
   ]
  },
  {
   "cell_type": "code",
   "execution_count": null,
   "id": "e8f75282",
   "metadata": {},
   "outputs": [],
   "source": []
  }
 ],
 "metadata": {
  "kernelspec": {
   "display_name": "Python 3 (ipykernel)",
   "language": "python",
   "name": "python3"
  },
  "language_info": {
   "codemirror_mode": {
    "name": "ipython",
    "version": 3
   },
   "file_extension": ".py",
   "mimetype": "text/x-python",
   "name": "python",
   "nbconvert_exporter": "python",
   "pygments_lexer": "ipython3",
   "version": "3.11.5"
  }
 },
 "nbformat": 4,
 "nbformat_minor": 5
}
