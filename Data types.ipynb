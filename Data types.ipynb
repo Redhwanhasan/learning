{
 "cells": [
  {
   "cell_type": "code",
   "execution_count": null,
   "id": "b8e981b6",
   "metadata": {},
   "outputs": [],
   "source": [
    "a = float(input(\"enter your phone number\"))"
   ]
  },
  {
   "cell_type": "code",
   "execution_count": null,
   "id": "37f8d30b",
   "metadata": {},
   "outputs": [],
   "source": [
    "a = int(input(\"please enter a number:\"))"
   ]
  },
  {
   "cell_type": "code",
   "execution_count": null,
   "id": "d72e6830",
   "metadata": {},
   "outputs": [],
   "source": [
    "b = int(input(\"please enter another number:\"))"
   ]
  },
  {
   "cell_type": "code",
   "execution_count": null,
   "id": "86e4d46f",
   "metadata": {},
   "outputs": [],
   "source": [
    "type(a)"
   ]
  },
  {
   "cell_type": "code",
   "execution_count": null,
   "id": "a4f68e6d",
   "metadata": {},
   "outputs": [],
   "source": [
    "var = input(\"please enter your gmail\")"
   ]
  },
  {
   "cell_type": "code",
   "execution_count": null,
   "id": "3ead8332",
   "metadata": {},
   "outputs": [],
   "source": [
    "print(var)"
   ]
  },
  {
   "cell_type": "code",
   "execution_count": null,
   "id": "820e7d95",
   "metadata": {},
   "outputs": [],
   "source": [
    "a = 5\n",
    "b = 3"
   ]
  },
  {
   "cell_type": "code",
   "execution_count": null,
   "id": "478488c4",
   "metadata": {},
   "outputs": [],
   "source": [
    "print(a+b)"
   ]
  },
  {
   "cell_type": "code",
   "execution_count": null,
   "id": "ba743e90",
   "metadata": {},
   "outputs": [],
   "source": [
    "a = 5\n",
    "b = 3\n",
    "print(a-b)"
   ]
  },
  {
   "cell_type": "code",
   "execution_count": null,
   "id": "f87ea1af",
   "metadata": {},
   "outputs": [],
   "source": [
    "x = 5\n",
    "y = 3\n",
    "print(x*y)"
   ]
  },
  {
   "cell_type": "code",
   "execution_count": null,
   "id": "04a2a55a",
   "metadata": {},
   "outputs": [],
   "source": [
    "x = 5\n",
    "y = 3\n",
    "print(x/y)"
   ]
  },
  {
   "cell_type": "code",
   "execution_count": null,
   "id": "ff4651f2",
   "metadata": {},
   "outputs": [],
   "source": []
  }
 ],
 "metadata": {
  "kernelspec": {
   "display_name": "Python 3 (ipykernel)",
   "language": "python",
   "name": "python3"
  },
  "language_info": {
   "codemirror_mode": {
    "name": "ipython",
    "version": 3
   },
   "file_extension": ".py",
   "mimetype": "text/x-python",
   "name": "python",
   "nbconvert_exporter": "python",
   "pygments_lexer": "ipython3",
   "version": "3.11.5"
  }
 },
 "nbformat": 4,
 "nbformat_minor": 5
}
