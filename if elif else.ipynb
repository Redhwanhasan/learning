{
 "cells": [
  {
   "cell_type": "code",
   "execution_count": 4,
   "id": "69a9a9e1",
   "metadata": {},
   "outputs": [
    {
     "name": "stdout",
     "output_type": "stream",
     "text": [
      "enter your name: Redhwan\n",
      "please entry\n"
     ]
    }
   ],
   "source": [
    "name = input(\"enter your name: \")\n",
    "if name == \"Redhwan\" :\n",
    "    print(\"please entry\")\n",
    "else:\n",
    "    print(\"don't entry\")\n",
    "    \n"
   ]
  },
  {
   "cell_type": "code",
   "execution_count": 10,
   "id": "9002b40b",
   "metadata": {},
   "outputs": [
    {
     "name": "stdout",
     "output_type": "stream",
     "text": [
      "enter a number22\n",
      "oh no!yoy are looser\n",
      "give 2x of money\n",
      "ok\n",
      "is there any work pending: no\n",
      "ok, thank you ma\n",
      "good night\n"
     ]
    }
   ],
   "source": [
    "number = int(input(\"enter a number\"))\n",
    "l = 23\n",
    "if number == l:\n",
    "    print(\"please take the money\")\n",
    "    \n",
    "else: \n",
    "    print(\"oh no!yoy are looser\")\n",
    "    print(\"give 2x of money\")\n",
    "print (\"ok\")\n",
    "\n",
    "ma = input(\"is there any work pending: \")\n",
    "if ma == \"yes\":\n",
    "    print(\"ok i am diong\")\n",
    "else:\n",
    "    print(\"ok, thank you ma\")\n",
    "print(\"good night\")\n",
    "    "
   ]
  },
  {
   "cell_type": "markdown",
   "id": "5d41cd17",
   "metadata": {},
   "source": [
    "# 80 <=\"A+\", 70<=\"A\", 60<=\"A-\", 50<=\"B\",33<=\"C\", 32>=\"F\""
   ]
  },
  {
   "cell_type": "code",
   "execution_count": 14,
   "id": "0049b63c",
   "metadata": {},
   "outputs": [
    {
     "name": "stdout",
     "output_type": "stream",
     "text": [
      "please enter your mark: 81\n",
      "Congratulations you got A+\n"
     ]
    }
   ],
   "source": [
    "mark = int(input(\"please enter your mark: \"))\n",
    "if mark >= 80:\n",
    "    print(\"Congratulations you got A+\")\n",
    "else:\n",
    "    print(\"You have not got A+\")"
   ]
  },
  {
   "cell_type": "code",
   "execution_count": 21,
   "id": "88afd932",
   "metadata": {},
   "outputs": [
    {
     "name": "stdout",
     "output_type": "stream",
     "text": [
      "please enter your mark: 87\n",
      "Congratulations you got A+\n"
     ]
    }
   ],
   "source": [
    "mark = int(input(\"please enter your mark: \"))\n",
    "if mark >= 80:\n",
    "    print(\"Congratulations you got A+\")\n",
    "elif mark >= 70:\n",
    "    print(\"Congratulations you got A\")\n",
    "elif mark >= 60:\n",
    "    print(\"Congratulations you got A-\")\n",
    "elif mark >= 50:\n",
    "    print(\"Congratulations you got B\")\n",
    "elif mark >= 33:\n",
    "    print(\"Congratulations you got C\")\n",
    "else:\n",
    "    mark <= 32\n",
    "    print(\"Sorry you got F\")\n",
    "    print(\"best wishes for the next time\")\n",
    "\n",
    "    "
   ]
  },
  {
   "cell_type": "code",
   "execution_count": 22,
   "id": "4c632c6a",
   "metadata": {},
   "outputs": [
    {
     "name": "stdout",
     "output_type": "stream",
     "text": [
      "please enter your bangla mark87\n",
      "please enter your english mark88\n",
      "you are selected\n"
     ]
    }
   ],
   "source": [
    "B_mark = int(input(\"please enter your bangla mark\"))\n",
    "E_mark = int(input(\"please enter your english mark\"))\n",
    "if E_mark >= 80:\n",
    "    if B_mark >= 80:\n",
    "        print(\"you are selected\")\n",
    "    else:\n",
    "        print(\"you are pending\")\n",
    "else:\n",
    "    print(\"you are rejected\")\n",
    "\n"
   ]
  },
  {
   "cell_type": "code",
   "execution_count": 23,
   "id": "7732946b",
   "metadata": {},
   "outputs": [
    {
     "name": "stdout",
     "output_type": "stream",
     "text": [
      "please enter your bangla mark77\n",
      "please enter your english mark80\n",
      "you are pending\n"
     ]
    }
   ],
   "source": [
    "B_mark = int(input(\"please enter your bangla mark\"))\n",
    "E_mark = int(input(\"please enter your english mark\"))\n",
    "if E_mark >= 80:\n",
    "    if B_mark >= 80:\n",
    "        print(\"you are selected\")\n",
    "    else:\n",
    "        print(\"you are pending\")\n",
    "else:\n",
    "    print(\"you are rejected\")\n"
   ]
  },
  {
   "cell_type": "code",
   "execution_count": 24,
   "id": "519499d5",
   "metadata": {},
   "outputs": [
    {
     "name": "stdout",
     "output_type": "stream",
     "text": [
      "please enter your bangla mark77\n",
      "please enter your english mark78\n",
      "you are rejected\n"
     ]
    }
   ],
   "source": [
    "B_mark = int(input(\"please enter your bangla mark\"))\n",
    "E_mark = int(input(\"please enter your english mark\"))\n",
    "if E_mark >= 80:\n",
    "    if B_mark >= 80:\n",
    "        print(\"you are selected\")\n",
    "    else:\n",
    "        print(\"you are pending\")\n",
    "else:\n",
    "    print(\"you are rejected\")\n"
   ]
  },
  {
   "cell_type": "code",
   "execution_count": 28,
   "id": "1b88b416",
   "metadata": {},
   "outputs": [
    {
     "name": "stdout",
     "output_type": "stream",
     "text": [
      "please enter your math mark: 78\n",
      "please enter your english mark: 80\n",
      "please enter your bangla mark: 80\n",
      "you are rejected\n"
     ]
    }
   ],
   "source": [
    "M_mark = int(input(\"please enter your math mark: \"))\n",
    "E_mark = int(input(\"please enter your english mark: \"))\n",
    "B_mark = int(input(\"please enter your bangla mark: \"))\n",
    "if M_mark >= 80:\n",
    "    if E_mark >= 80:\n",
    "        if B_mark >= 80:\n",
    "            print(\"you are selected\")\n",
    "    else:\n",
    "        print(\"you are pending\")\n",
    "else:\n",
    "    print(\"you are rejected\")\n"
   ]
  },
  {
   "cell_type": "code",
   "execution_count": 35,
   "id": "77ecbb7f",
   "metadata": {},
   "outputs": [
    {
     "name": "stdout",
     "output_type": "stream",
     "text": [
      "please enter your math mark: 87\n",
      "please enter your english mark: 76\n",
      "please enter your bangla mark: 80\n"
     ]
    }
   ],
   "source": [
    "M_mark = int(input(\"please enter your math mark: \"))\n",
    "E_mark = int(input(\"please enter your english mark: \"))\n",
    "B_mark = int(input(\"please enter your bangla mark: \"))\n",
    "if M_mark >= 80:\n",
    "    if E_mark >= 80:\n",
    "        if B_mark >= 80:\n",
    "            print(\"you are selected\")\n",
    "        else:\n",
    "             print(\"you are pending\")\n",
    "else:\n",
    "    print(\"you are rejected\")\n"
   ]
  },
  {
   "cell_type": "code",
   "execution_count": null,
   "id": "50f17af4",
   "metadata": {},
   "outputs": [],
   "source": []
  }
 ],
 "metadata": {
  "kernelspec": {
   "display_name": "Python 3 (ipykernel)",
   "language": "python",
   "name": "python3"
  },
  "language_info": {
   "codemirror_mode": {
    "name": "ipython",
    "version": 3
   },
   "file_extension": ".py",
   "mimetype": "text/x-python",
   "name": "python",
   "nbconvert_exporter": "python",
   "pygments_lexer": "ipython3",
   "version": "3.11.5"
  }
 },
 "nbformat": 4,
 "nbformat_minor": 5
}
